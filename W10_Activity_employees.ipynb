{
 "cells": [
  {
   "cell_type": "code",
   "execution_count": 1,
   "id": "f104a85b",
   "metadata": {},
   "outputs": [],
   "source": [
    "#importing required libraries\n",
    "import pandas as pd\n",
    "import numpy as np\n",
    "import matplotlib.pyplot as plt\n",
    "import seaborn as sns"
   ]
  },
  {
   "cell_type": "markdown",
   "id": "b5a7afb1",
   "metadata": {},
   "source": [
    "# 1. Load the data into the pandas environment and identify some basic details of the dataset."
   ]
  },
  {
   "cell_type": "code",
   "execution_count": 2,
   "id": "a4b89315",
   "metadata": {},
   "outputs": [],
   "source": [
    "data=pd.read_csv('employee.csv')"
   ]
  },
  {
   "cell_type": "code",
   "execution_count": 3,
   "id": "fe42c73c",
   "metadata": {},
   "outputs": [
    {
     "data": {
      "text/html": [
       "<div>\n",
       "<style scoped>\n",
       "    .dataframe tbody tr th:only-of-type {\n",
       "        vertical-align: middle;\n",
       "    }\n",
       "\n",
       "    .dataframe tbody tr th {\n",
       "        vertical-align: top;\n",
       "    }\n",
       "\n",
       "    .dataframe thead th {\n",
       "        text-align: right;\n",
       "    }\n",
       "</style>\n",
       "<table border=\"1\" class=\"dataframe\">\n",
       "  <thead>\n",
       "    <tr style=\"text-align: right;\">\n",
       "      <th></th>\n",
       "      <th>name</th>\n",
       "      <th>age</th>\n",
       "      <th>income</th>\n",
       "      <th>gender</th>\n",
       "      <th>department</th>\n",
       "      <th>grade</th>\n",
       "      <th>performance_score</th>\n",
       "    </tr>\n",
       "  </thead>\n",
       "  <tbody>\n",
       "    <tr>\n",
       "      <th>0</th>\n",
       "      <td>Allen Smith</td>\n",
       "      <td>45.0</td>\n",
       "      <td>NaN</td>\n",
       "      <td>NaN</td>\n",
       "      <td>Operations</td>\n",
       "      <td>G3</td>\n",
       "      <td>723</td>\n",
       "    </tr>\n",
       "    <tr>\n",
       "      <th>1</th>\n",
       "      <td>S Kumar</td>\n",
       "      <td>NaN</td>\n",
       "      <td>16000.0</td>\n",
       "      <td>F</td>\n",
       "      <td>Finance</td>\n",
       "      <td>G0</td>\n",
       "      <td>520</td>\n",
       "    </tr>\n",
       "    <tr>\n",
       "      <th>2</th>\n",
       "      <td>Jack Morgan</td>\n",
       "      <td>32.0</td>\n",
       "      <td>35000.0</td>\n",
       "      <td>M</td>\n",
       "      <td>Finance</td>\n",
       "      <td>G2</td>\n",
       "      <td>674</td>\n",
       "    </tr>\n",
       "    <tr>\n",
       "      <th>3</th>\n",
       "      <td>Ying Chin</td>\n",
       "      <td>45.0</td>\n",
       "      <td>65000.0</td>\n",
       "      <td>F</td>\n",
       "      <td>Sales</td>\n",
       "      <td>G3</td>\n",
       "      <td>556</td>\n",
       "    </tr>\n",
       "    <tr>\n",
       "      <th>4</th>\n",
       "      <td>Dheeraj Patel</td>\n",
       "      <td>30.0</td>\n",
       "      <td>42000.0</td>\n",
       "      <td>F</td>\n",
       "      <td>Operations</td>\n",
       "      <td>G2</td>\n",
       "      <td>711</td>\n",
       "    </tr>\n",
       "  </tbody>\n",
       "</table>\n",
       "</div>"
      ],
      "text/plain": [
       "            name   age   income gender  department grade  performance_score\n",
       "0    Allen Smith  45.0      NaN    NaN  Operations    G3                723\n",
       "1        S Kumar   NaN  16000.0      F     Finance    G0                520\n",
       "2    Jack Morgan  32.0  35000.0      M     Finance    G2                674\n",
       "3      Ying Chin  45.0  65000.0      F       Sales    G3                556\n",
       "4  Dheeraj Patel  30.0  42000.0      F  Operations    G2                711"
      ]
     },
     "execution_count": 3,
     "metadata": {},
     "output_type": "execute_result"
    }
   ],
   "source": [
    "data.head()"
   ]
  },
  {
   "cell_type": "code",
   "execution_count": 4,
   "id": "78dc3ec1",
   "metadata": {},
   "outputs": [
    {
     "data": {
      "text/html": [
       "<div>\n",
       "<style scoped>\n",
       "    .dataframe tbody tr th:only-of-type {\n",
       "        vertical-align: middle;\n",
       "    }\n",
       "\n",
       "    .dataframe tbody tr th {\n",
       "        vertical-align: top;\n",
       "    }\n",
       "\n",
       "    .dataframe thead th {\n",
       "        text-align: right;\n",
       "    }\n",
       "</style>\n",
       "<table border=\"1\" class=\"dataframe\">\n",
       "  <thead>\n",
       "    <tr style=\"text-align: right;\">\n",
       "      <th></th>\n",
       "      <th>age</th>\n",
       "      <th>income</th>\n",
       "      <th>performance_score</th>\n",
       "    </tr>\n",
       "  </thead>\n",
       "  <tbody>\n",
       "    <tr>\n",
       "      <th>count</th>\n",
       "      <td>7.000000</td>\n",
       "      <td>7.000000</td>\n",
       "      <td>9.000000</td>\n",
       "    </tr>\n",
       "    <tr>\n",
       "      <th>mean</th>\n",
       "      <td>40.428571</td>\n",
       "      <td>52857.142857</td>\n",
       "      <td>610.666667</td>\n",
       "    </tr>\n",
       "    <tr>\n",
       "      <th>std</th>\n",
       "      <td>12.204605</td>\n",
       "      <td>26028.372797</td>\n",
       "      <td>235.671912</td>\n",
       "    </tr>\n",
       "    <tr>\n",
       "      <th>min</th>\n",
       "      <td>23.000000</td>\n",
       "      <td>16000.000000</td>\n",
       "      <td>53.000000</td>\n",
       "    </tr>\n",
       "    <tr>\n",
       "      <th>25%</th>\n",
       "      <td>31.000000</td>\n",
       "      <td>38500.000000</td>\n",
       "      <td>556.000000</td>\n",
       "    </tr>\n",
       "    <tr>\n",
       "      <th>50%</th>\n",
       "      <td>45.000000</td>\n",
       "      <td>52000.000000</td>\n",
       "      <td>674.000000</td>\n",
       "    </tr>\n",
       "    <tr>\n",
       "      <th>75%</th>\n",
       "      <td>49.500000</td>\n",
       "      <td>63500.000000</td>\n",
       "      <td>711.000000</td>\n",
       "    </tr>\n",
       "    <tr>\n",
       "      <th>max</th>\n",
       "      <td>54.000000</td>\n",
       "      <td>98000.000000</td>\n",
       "      <td>901.000000</td>\n",
       "    </tr>\n",
       "  </tbody>\n",
       "</table>\n",
       "</div>"
      ],
      "text/plain": [
       "             age        income  performance_score\n",
       "count   7.000000      7.000000           9.000000\n",
       "mean   40.428571  52857.142857         610.666667\n",
       "std    12.204605  26028.372797         235.671912\n",
       "min    23.000000  16000.000000          53.000000\n",
       "25%    31.000000  38500.000000         556.000000\n",
       "50%    45.000000  52000.000000         674.000000\n",
       "75%    49.500000  63500.000000         711.000000\n",
       "max    54.000000  98000.000000         901.000000"
      ]
     },
     "execution_count": 4,
     "metadata": {},
     "output_type": "execute_result"
    }
   ],
   "source": [
    "data.describe()"
   ]
  },
  {
   "cell_type": "code",
   "execution_count": 5,
   "id": "91287665",
   "metadata": {},
   "outputs": [
    {
     "name": "stdout",
     "output_type": "stream",
     "text": [
      "<class 'pandas.core.frame.DataFrame'>\n",
      "RangeIndex: 9 entries, 0 to 8\n",
      "Data columns (total 7 columns):\n",
      " #   Column             Non-Null Count  Dtype  \n",
      "---  ------             --------------  -----  \n",
      " 0   name               9 non-null      object \n",
      " 1   age                7 non-null      float64\n",
      " 2   income             7 non-null      float64\n",
      " 3   gender             7 non-null      object \n",
      " 4   department         9 non-null      object \n",
      " 5   grade              9 non-null      object \n",
      " 6   performance_score  9 non-null      int64  \n",
      "dtypes: float64(2), int64(1), object(4)\n",
      "memory usage: 632.0+ bytes\n"
     ]
    }
   ],
   "source": [
    "data.info()"
   ]
  },
  {
   "cell_type": "markdown",
   "id": "6229b77f",
   "metadata": {},
   "source": [
    "# 2. Reset the index as \"name\" as the index."
   ]
  },
  {
   "cell_type": "code",
   "execution_count": 6,
   "id": "40b6f498",
   "metadata": {},
   "outputs": [
    {
     "data": {
      "text/html": [
       "<div>\n",
       "<style scoped>\n",
       "    .dataframe tbody tr th:only-of-type {\n",
       "        vertical-align: middle;\n",
       "    }\n",
       "\n",
       "    .dataframe tbody tr th {\n",
       "        vertical-align: top;\n",
       "    }\n",
       "\n",
       "    .dataframe thead th {\n",
       "        text-align: right;\n",
       "    }\n",
       "</style>\n",
       "<table border=\"1\" class=\"dataframe\">\n",
       "  <thead>\n",
       "    <tr style=\"text-align: right;\">\n",
       "      <th></th>\n",
       "      <th>age</th>\n",
       "      <th>income</th>\n",
       "      <th>gender</th>\n",
       "      <th>department</th>\n",
       "      <th>grade</th>\n",
       "      <th>performance_score</th>\n",
       "    </tr>\n",
       "    <tr>\n",
       "      <th>name</th>\n",
       "      <th></th>\n",
       "      <th></th>\n",
       "      <th></th>\n",
       "      <th></th>\n",
       "      <th></th>\n",
       "      <th></th>\n",
       "    </tr>\n",
       "  </thead>\n",
       "  <tbody>\n",
       "    <tr>\n",
       "      <th>Allen Smith</th>\n",
       "      <td>45.0</td>\n",
       "      <td>NaN</td>\n",
       "      <td>NaN</td>\n",
       "      <td>Operations</td>\n",
       "      <td>G3</td>\n",
       "      <td>723</td>\n",
       "    </tr>\n",
       "    <tr>\n",
       "      <th>S Kumar</th>\n",
       "      <td>NaN</td>\n",
       "      <td>16000.0</td>\n",
       "      <td>F</td>\n",
       "      <td>Finance</td>\n",
       "      <td>G0</td>\n",
       "      <td>520</td>\n",
       "    </tr>\n",
       "    <tr>\n",
       "      <th>Jack Morgan</th>\n",
       "      <td>32.0</td>\n",
       "      <td>35000.0</td>\n",
       "      <td>M</td>\n",
       "      <td>Finance</td>\n",
       "      <td>G2</td>\n",
       "      <td>674</td>\n",
       "    </tr>\n",
       "    <tr>\n",
       "      <th>Ying Chin</th>\n",
       "      <td>45.0</td>\n",
       "      <td>65000.0</td>\n",
       "      <td>F</td>\n",
       "      <td>Sales</td>\n",
       "      <td>G3</td>\n",
       "      <td>556</td>\n",
       "    </tr>\n",
       "    <tr>\n",
       "      <th>Dheeraj Patel</th>\n",
       "      <td>30.0</td>\n",
       "      <td>42000.0</td>\n",
       "      <td>F</td>\n",
       "      <td>Operations</td>\n",
       "      <td>G2</td>\n",
       "      <td>711</td>\n",
       "    </tr>\n",
       "    <tr>\n",
       "      <th>Satyam Sharma</th>\n",
       "      <td>NaN</td>\n",
       "      <td>62000.0</td>\n",
       "      <td>NaN</td>\n",
       "      <td>Sales</td>\n",
       "      <td>G3</td>\n",
       "      <td>649</td>\n",
       "    </tr>\n",
       "    <tr>\n",
       "      <th>James Authur</th>\n",
       "      <td>54.0</td>\n",
       "      <td>NaN</td>\n",
       "      <td>F</td>\n",
       "      <td>Operations</td>\n",
       "      <td>G3</td>\n",
       "      <td>53</td>\n",
       "    </tr>\n",
       "    <tr>\n",
       "      <th>Josh Wills</th>\n",
       "      <td>54.0</td>\n",
       "      <td>52000.0</td>\n",
       "      <td>F</td>\n",
       "      <td>Finance</td>\n",
       "      <td>G3</td>\n",
       "      <td>901</td>\n",
       "    </tr>\n",
       "    <tr>\n",
       "      <th>Leo Duck</th>\n",
       "      <td>23.0</td>\n",
       "      <td>98000.0</td>\n",
       "      <td>M</td>\n",
       "      <td>Sales</td>\n",
       "      <td>G4</td>\n",
       "      <td>709</td>\n",
       "    </tr>\n",
       "  </tbody>\n",
       "</table>\n",
       "</div>"
      ],
      "text/plain": [
       "                age   income gender  department grade  performance_score\n",
       "name                                                                    \n",
       "Allen Smith    45.0      NaN    NaN  Operations    G3                723\n",
       "S Kumar         NaN  16000.0      F     Finance    G0                520\n",
       "Jack Morgan    32.0  35000.0      M     Finance    G2                674\n",
       "Ying Chin      45.0  65000.0      F       Sales    G3                556\n",
       "Dheeraj Patel  30.0  42000.0      F  Operations    G2                711\n",
       "Satyam Sharma   NaN  62000.0    NaN       Sales    G3                649\n",
       "James Authur   54.0      NaN      F  Operations    G3                 53\n",
       "Josh Wills     54.0  52000.0      F     Finance    G3                901\n",
       "Leo Duck       23.0  98000.0      M       Sales    G4                709"
      ]
     },
     "execution_count": 6,
     "metadata": {},
     "output_type": "execute_result"
    }
   ],
   "source": [
    "data=data.set_index('name')\n",
    "data"
   ]
  },
  {
   "cell_type": "markdown",
   "id": "137d56a0",
   "metadata": {},
   "source": [
    "# 3. Select rows for specific names Jack Morgan and Josh wills."
   ]
  },
  {
   "cell_type": "code",
   "execution_count": 7,
   "id": "3b7b49bb",
   "metadata": {},
   "outputs": [
    {
     "data": {
      "text/html": [
       "<div>\n",
       "<style scoped>\n",
       "    .dataframe tbody tr th:only-of-type {\n",
       "        vertical-align: middle;\n",
       "    }\n",
       "\n",
       "    .dataframe tbody tr th {\n",
       "        vertical-align: top;\n",
       "    }\n",
       "\n",
       "    .dataframe thead th {\n",
       "        text-align: right;\n",
       "    }\n",
       "</style>\n",
       "<table border=\"1\" class=\"dataframe\">\n",
       "  <thead>\n",
       "    <tr style=\"text-align: right;\">\n",
       "      <th></th>\n",
       "      <th>age</th>\n",
       "      <th>income</th>\n",
       "      <th>gender</th>\n",
       "      <th>department</th>\n",
       "      <th>grade</th>\n",
       "      <th>performance_score</th>\n",
       "    </tr>\n",
       "    <tr>\n",
       "      <th>name</th>\n",
       "      <th></th>\n",
       "      <th></th>\n",
       "      <th></th>\n",
       "      <th></th>\n",
       "      <th></th>\n",
       "      <th></th>\n",
       "    </tr>\n",
       "  </thead>\n",
       "  <tbody>\n",
       "    <tr>\n",
       "      <th>Jack Morgan</th>\n",
       "      <td>32.0</td>\n",
       "      <td>35000.0</td>\n",
       "      <td>M</td>\n",
       "      <td>Finance</td>\n",
       "      <td>G2</td>\n",
       "      <td>674</td>\n",
       "    </tr>\n",
       "    <tr>\n",
       "      <th>Josh Wills</th>\n",
       "      <td>54.0</td>\n",
       "      <td>52000.0</td>\n",
       "      <td>F</td>\n",
       "      <td>Finance</td>\n",
       "      <td>G3</td>\n",
       "      <td>901</td>\n",
       "    </tr>\n",
       "  </tbody>\n",
       "</table>\n",
       "</div>"
      ],
      "text/plain": [
       "              age   income gender department grade  performance_score\n",
       "name                                                                 \n",
       "Jack Morgan  32.0  35000.0      M    Finance    G2                674\n",
       "Josh Wills   54.0  52000.0      F    Finance    G3                901"
      ]
     },
     "execution_count": 7,
     "metadata": {},
     "output_type": "execute_result"
    }
   ],
   "source": [
    "data.loc[['Jack Morgan','Josh Wills']]"
   ]
  },
  {
   "cell_type": "markdown",
   "id": "8c1a76d4",
   "metadata": {},
   "source": [
    "# 4. Select data for multiple values \"Sales\" and “Finance”."
   ]
  },
  {
   "cell_type": "code",
   "execution_count": 8,
   "id": "4c6fa23a",
   "metadata": {},
   "outputs": [
    {
     "data": {
      "text/html": [
       "<div>\n",
       "<style scoped>\n",
       "    .dataframe tbody tr th:only-of-type {\n",
       "        vertical-align: middle;\n",
       "    }\n",
       "\n",
       "    .dataframe tbody tr th {\n",
       "        vertical-align: top;\n",
       "    }\n",
       "\n",
       "    .dataframe thead th {\n",
       "        text-align: right;\n",
       "    }\n",
       "</style>\n",
       "<table border=\"1\" class=\"dataframe\">\n",
       "  <thead>\n",
       "    <tr style=\"text-align: right;\">\n",
       "      <th></th>\n",
       "      <th>age</th>\n",
       "      <th>income</th>\n",
       "      <th>gender</th>\n",
       "      <th>department</th>\n",
       "      <th>grade</th>\n",
       "      <th>performance_score</th>\n",
       "    </tr>\n",
       "    <tr>\n",
       "      <th>name</th>\n",
       "      <th></th>\n",
       "      <th></th>\n",
       "      <th></th>\n",
       "      <th></th>\n",
       "      <th></th>\n",
       "      <th></th>\n",
       "    </tr>\n",
       "  </thead>\n",
       "  <tbody>\n",
       "    <tr>\n",
       "      <th>S Kumar</th>\n",
       "      <td>NaN</td>\n",
       "      <td>16000.0</td>\n",
       "      <td>F</td>\n",
       "      <td>Finance</td>\n",
       "      <td>G0</td>\n",
       "      <td>520</td>\n",
       "    </tr>\n",
       "    <tr>\n",
       "      <th>Jack Morgan</th>\n",
       "      <td>32.0</td>\n",
       "      <td>35000.0</td>\n",
       "      <td>M</td>\n",
       "      <td>Finance</td>\n",
       "      <td>G2</td>\n",
       "      <td>674</td>\n",
       "    </tr>\n",
       "    <tr>\n",
       "      <th>Ying Chin</th>\n",
       "      <td>45.0</td>\n",
       "      <td>65000.0</td>\n",
       "      <td>F</td>\n",
       "      <td>Sales</td>\n",
       "      <td>G3</td>\n",
       "      <td>556</td>\n",
       "    </tr>\n",
       "    <tr>\n",
       "      <th>Satyam Sharma</th>\n",
       "      <td>NaN</td>\n",
       "      <td>62000.0</td>\n",
       "      <td>NaN</td>\n",
       "      <td>Sales</td>\n",
       "      <td>G3</td>\n",
       "      <td>649</td>\n",
       "    </tr>\n",
       "    <tr>\n",
       "      <th>Josh Wills</th>\n",
       "      <td>54.0</td>\n",
       "      <td>52000.0</td>\n",
       "      <td>F</td>\n",
       "      <td>Finance</td>\n",
       "      <td>G3</td>\n",
       "      <td>901</td>\n",
       "    </tr>\n",
       "    <tr>\n",
       "      <th>Leo Duck</th>\n",
       "      <td>23.0</td>\n",
       "      <td>98000.0</td>\n",
       "      <td>M</td>\n",
       "      <td>Sales</td>\n",
       "      <td>G4</td>\n",
       "      <td>709</td>\n",
       "    </tr>\n",
       "  </tbody>\n",
       "</table>\n",
       "</div>"
      ],
      "text/plain": [
       "                age   income gender department grade  performance_score\n",
       "name                                                                   \n",
       "S Kumar         NaN  16000.0      F    Finance    G0                520\n",
       "Jack Morgan    32.0  35000.0      M    Finance    G2                674\n",
       "Ying Chin      45.0  65000.0      F      Sales    G3                556\n",
       "Satyam Sharma   NaN  62000.0    NaN      Sales    G3                649\n",
       "Josh Wills     54.0  52000.0      F    Finance    G3                901\n",
       "Leo Duck       23.0  98000.0      M      Sales    G4                709"
      ]
     },
     "execution_count": 8,
     "metadata": {},
     "output_type": "execute_result"
    }
   ],
   "source": [
    "data.loc[(data['department'] =='Sales' ) | (data['department'] =='Finance')]"
   ]
  },
  {
   "cell_type": "markdown",
   "id": "6f435667",
   "metadata": {},
   "source": [
    "# 5. Display employee who has more than 700 performance score."
   ]
  },
  {
   "cell_type": "code",
   "execution_count": 9,
   "id": "5c45efa2",
   "metadata": {},
   "outputs": [
    {
     "data": {
      "text/html": [
       "<div>\n",
       "<style scoped>\n",
       "    .dataframe tbody tr th:only-of-type {\n",
       "        vertical-align: middle;\n",
       "    }\n",
       "\n",
       "    .dataframe tbody tr th {\n",
       "        vertical-align: top;\n",
       "    }\n",
       "\n",
       "    .dataframe thead th {\n",
       "        text-align: right;\n",
       "    }\n",
       "</style>\n",
       "<table border=\"1\" class=\"dataframe\">\n",
       "  <thead>\n",
       "    <tr style=\"text-align: right;\">\n",
       "      <th></th>\n",
       "      <th>age</th>\n",
       "      <th>income</th>\n",
       "      <th>gender</th>\n",
       "      <th>department</th>\n",
       "      <th>grade</th>\n",
       "      <th>performance_score</th>\n",
       "    </tr>\n",
       "    <tr>\n",
       "      <th>name</th>\n",
       "      <th></th>\n",
       "      <th></th>\n",
       "      <th></th>\n",
       "      <th></th>\n",
       "      <th></th>\n",
       "      <th></th>\n",
       "    </tr>\n",
       "  </thead>\n",
       "  <tbody>\n",
       "    <tr>\n",
       "      <th>Allen Smith</th>\n",
       "      <td>45.0</td>\n",
       "      <td>NaN</td>\n",
       "      <td>NaN</td>\n",
       "      <td>Operations</td>\n",
       "      <td>G3</td>\n",
       "      <td>723</td>\n",
       "    </tr>\n",
       "    <tr>\n",
       "      <th>Dheeraj Patel</th>\n",
       "      <td>30.0</td>\n",
       "      <td>42000.0</td>\n",
       "      <td>F</td>\n",
       "      <td>Operations</td>\n",
       "      <td>G2</td>\n",
       "      <td>711</td>\n",
       "    </tr>\n",
       "    <tr>\n",
       "      <th>Josh Wills</th>\n",
       "      <td>54.0</td>\n",
       "      <td>52000.0</td>\n",
       "      <td>F</td>\n",
       "      <td>Finance</td>\n",
       "      <td>G3</td>\n",
       "      <td>901</td>\n",
       "    </tr>\n",
       "    <tr>\n",
       "      <th>Leo Duck</th>\n",
       "      <td>23.0</td>\n",
       "      <td>98000.0</td>\n",
       "      <td>M</td>\n",
       "      <td>Sales</td>\n",
       "      <td>G4</td>\n",
       "      <td>709</td>\n",
       "    </tr>\n",
       "  </tbody>\n",
       "</table>\n",
       "</div>"
      ],
      "text/plain": [
       "                age   income gender  department grade  performance_score\n",
       "name                                                                    \n",
       "Allen Smith    45.0      NaN    NaN  Operations    G3                723\n",
       "Dheeraj Patel  30.0  42000.0      F  Operations    G2                711\n",
       "Josh Wills     54.0  52000.0      F     Finance    G3                901\n",
       "Leo Duck       23.0  98000.0      M       Sales    G4                709"
      ]
     },
     "execution_count": 9,
     "metadata": {},
     "output_type": "execute_result"
    }
   ],
   "source": [
    "data.loc[data['performance_score']>700]"
   ]
  },
  {
   "cell_type": "markdown",
   "id": "ae688dda",
   "metadata": {},
   "source": [
    "# 6. Display employee who has more than 500 and less than 700 performance score."
   ]
  },
  {
   "cell_type": "code",
   "execution_count": 10,
   "id": "79fa7bb4",
   "metadata": {},
   "outputs": [
    {
     "data": {
      "text/html": [
       "<div>\n",
       "<style scoped>\n",
       "    .dataframe tbody tr th:only-of-type {\n",
       "        vertical-align: middle;\n",
       "    }\n",
       "\n",
       "    .dataframe tbody tr th {\n",
       "        vertical-align: top;\n",
       "    }\n",
       "\n",
       "    .dataframe thead th {\n",
       "        text-align: right;\n",
       "    }\n",
       "</style>\n",
       "<table border=\"1\" class=\"dataframe\">\n",
       "  <thead>\n",
       "    <tr style=\"text-align: right;\">\n",
       "      <th></th>\n",
       "      <th>age</th>\n",
       "      <th>income</th>\n",
       "      <th>gender</th>\n",
       "      <th>department</th>\n",
       "      <th>grade</th>\n",
       "      <th>performance_score</th>\n",
       "    </tr>\n",
       "    <tr>\n",
       "      <th>name</th>\n",
       "      <th></th>\n",
       "      <th></th>\n",
       "      <th></th>\n",
       "      <th></th>\n",
       "      <th></th>\n",
       "      <th></th>\n",
       "    </tr>\n",
       "  </thead>\n",
       "  <tbody>\n",
       "    <tr>\n",
       "      <th>S Kumar</th>\n",
       "      <td>NaN</td>\n",
       "      <td>16000.0</td>\n",
       "      <td>F</td>\n",
       "      <td>Finance</td>\n",
       "      <td>G0</td>\n",
       "      <td>520</td>\n",
       "    </tr>\n",
       "    <tr>\n",
       "      <th>Jack Morgan</th>\n",
       "      <td>32.0</td>\n",
       "      <td>35000.0</td>\n",
       "      <td>M</td>\n",
       "      <td>Finance</td>\n",
       "      <td>G2</td>\n",
       "      <td>674</td>\n",
       "    </tr>\n",
       "    <tr>\n",
       "      <th>Ying Chin</th>\n",
       "      <td>45.0</td>\n",
       "      <td>65000.0</td>\n",
       "      <td>F</td>\n",
       "      <td>Sales</td>\n",
       "      <td>G3</td>\n",
       "      <td>556</td>\n",
       "    </tr>\n",
       "    <tr>\n",
       "      <th>Satyam Sharma</th>\n",
       "      <td>NaN</td>\n",
       "      <td>62000.0</td>\n",
       "      <td>NaN</td>\n",
       "      <td>Sales</td>\n",
       "      <td>G3</td>\n",
       "      <td>649</td>\n",
       "    </tr>\n",
       "  </tbody>\n",
       "</table>\n",
       "</div>"
      ],
      "text/plain": [
       "                age   income gender department grade  performance_score\n",
       "name                                                                   \n",
       "S Kumar         NaN  16000.0      F    Finance    G0                520\n",
       "Jack Morgan    32.0  35000.0      M    Finance    G2                674\n",
       "Ying Chin      45.0  65000.0      F      Sales    G3                556\n",
       "Satyam Sharma   NaN  62000.0    NaN      Sales    G3                649"
      ]
     },
     "execution_count": 10,
     "metadata": {},
     "output_type": "execute_result"
    }
   ],
   "source": [
    "data.loc[(data['performance_score']<700 ) & (data['performance_score']>500)]"
   ]
  },
  {
   "cell_type": "markdown",
   "id": "3f745cfb",
   "metadata": {},
   "source": [
    "# 7. Check and handle missing values in the dataset."
   ]
  },
  {
   "cell_type": "code",
   "execution_count": 11,
   "id": "198efbea",
   "metadata": {},
   "outputs": [
    {
     "name": "stdout",
     "output_type": "stream",
     "text": [
      "<class 'pandas.core.frame.DataFrame'>\n",
      "Index: 9 entries, Allen Smith to Leo Duck\n",
      "Data columns (total 6 columns):\n",
      " #   Column             Non-Null Count  Dtype  \n",
      "---  ------             --------------  -----  \n",
      " 0   age                7 non-null      float64\n",
      " 1   income             7 non-null      float64\n",
      " 2   gender             7 non-null      object \n",
      " 3   department         9 non-null      object \n",
      " 4   grade              9 non-null      object \n",
      " 5   performance_score  9 non-null      int64  \n",
      "dtypes: float64(2), int64(1), object(3)\n",
      "memory usage: 804.0+ bytes\n"
     ]
    }
   ],
   "source": [
    "data.info()"
   ]
  },
  {
   "cell_type": "markdown",
   "id": "7f15d04f",
   "metadata": {},
   "source": [
    "There are missing values in 'age','income' and 'gender' group."
   ]
  },
  {
   "cell_type": "code",
   "execution_count": 12,
   "id": "9d57f2c0",
   "metadata": {},
   "outputs": [
    {
     "data": {
      "image/png": "[encoded data removed]",
      "text/plain": [
       "<Figure size 432x288 with 1 Axes>"
      ]
     },
     "metadata": {
      "needs_background": "light"
     },
     "output_type": "display_data"
    }
   ],
   "source": [
    "plt.hist(data['age'])\n",
    "plt.show()"
   ]
  },
  {
   "cell_type": "code",
   "execution_count": 13,
   "id": "bd2550cc",
   "metadata": {},
   "outputs": [],
   "source": [
    "data['age']=data['age'].fillna(data['age'].median())"
   ]
  },
  {
   "cell_type": "code",
   "execution_count": 14,
   "id": "8f4db21d",
   "metadata": {},
   "outputs": [
    {
     "data": {
      "image/png": "[encoded data removed]",
      "text/plain": [
       "<Figure size 432x288 with 1 Axes>"
      ]
     },
     "metadata": {
      "needs_background": "light"
     },
     "output_type": "display_data"
    }
   ],
   "source": [
    "plt.hist(data['income'])\n",
    "plt.show()"
   ]
  },
  {
   "cell_type": "code",
   "execution_count": 15,
   "id": "c2a27e0e",
   "metadata": {},
   "outputs": [],
   "source": [
    "data['income']=data['income'].fillna(data['income'].median())"
   ]
  },
  {
   "cell_type": "code",
   "execution_count": 16,
   "id": "f8643ab4",
   "metadata": {},
   "outputs": [],
   "source": [
    "data['gender']=data['gender'].fillna(data['gender'].mode()[0])"
   ]
  },
  {
   "cell_type": "code",
   "execution_count": 17,
   "id": "b8f9115c",
   "metadata": {},
   "outputs": [
    {
     "data": {
      "text/html": [
       "<div>\n",
       "<style scoped>\n",
       "    .dataframe tbody tr th:only-of-type {\n",
       "        vertical-align: middle;\n",
       "    }\n",
       "\n",
       "    .dataframe tbody tr th {\n",
       "        vertical-align: top;\n",
       "    }\n",
       "\n",
       "    .dataframe thead th {\n",
       "        text-align: right;\n",
       "    }\n",
       "</style>\n",
       "<table border=\"1\" class=\"dataframe\">\n",
       "  <thead>\n",
       "    <tr style=\"text-align: right;\">\n",
       "      <th></th>\n",
       "      <th>age</th>\n",
       "      <th>income</th>\n",
       "      <th>gender</th>\n",
       "      <th>department</th>\n",
       "      <th>grade</th>\n",
       "      <th>performance_score</th>\n",
       "    </tr>\n",
       "    <tr>\n",
       "      <th>name</th>\n",
       "      <th></th>\n",
       "      <th></th>\n",
       "      <th></th>\n",
       "      <th></th>\n",
       "      <th></th>\n",
       "      <th></th>\n",
       "    </tr>\n",
       "  </thead>\n",
       "  <tbody>\n",
       "    <tr>\n",
       "      <th>Allen Smith</th>\n",
       "      <td>45.0</td>\n",
       "      <td>52000.0</td>\n",
       "      <td>F</td>\n",
       "      <td>Operations</td>\n",
       "      <td>G3</td>\n",
       "      <td>723</td>\n",
       "    </tr>\n",
       "    <tr>\n",
       "      <th>S Kumar</th>\n",
       "      <td>45.0</td>\n",
       "      <td>16000.0</td>\n",
       "      <td>F</td>\n",
       "      <td>Finance</td>\n",
       "      <td>G0</td>\n",
       "      <td>520</td>\n",
       "    </tr>\n",
       "    <tr>\n",
       "      <th>Jack Morgan</th>\n",
       "      <td>32.0</td>\n",
       "      <td>35000.0</td>\n",
       "      <td>M</td>\n",
       "      <td>Finance</td>\n",
       "      <td>G2</td>\n",
       "      <td>674</td>\n",
       "    </tr>\n",
       "    <tr>\n",
       "      <th>Ying Chin</th>\n",
       "      <td>45.0</td>\n",
       "      <td>65000.0</td>\n",
       "      <td>F</td>\n",
       "      <td>Sales</td>\n",
       "      <td>G3</td>\n",
       "      <td>556</td>\n",
       "    </tr>\n",
       "    <tr>\n",
       "      <th>Dheeraj Patel</th>\n",
       "      <td>30.0</td>\n",
       "      <td>42000.0</td>\n",
       "      <td>F</td>\n",
       "      <td>Operations</td>\n",
       "      <td>G2</td>\n",
       "      <td>711</td>\n",
       "    </tr>\n",
       "    <tr>\n",
       "      <th>Satyam Sharma</th>\n",
       "      <td>45.0</td>\n",
       "      <td>62000.0</td>\n",
       "      <td>F</td>\n",
       "      <td>Sales</td>\n",
       "      <td>G3</td>\n",
       "      <td>649</td>\n",
       "    </tr>\n",
       "    <tr>\n",
       "      <th>James Authur</th>\n",
       "      <td>54.0</td>\n",
       "      <td>52000.0</td>\n",
       "      <td>F</td>\n",
       "      <td>Operations</td>\n",
       "      <td>G3</td>\n",
       "      <td>53</td>\n",
       "    </tr>\n",
       "    <tr>\n",
       "      <th>Josh Wills</th>\n",
       "      <td>54.0</td>\n",
       "      <td>52000.0</td>\n",
       "      <td>F</td>\n",
       "      <td>Finance</td>\n",
       "      <td>G3</td>\n",
       "      <td>901</td>\n",
       "    </tr>\n",
       "    <tr>\n",
       "      <th>Leo Duck</th>\n",
       "      <td>23.0</td>\n",
       "      <td>98000.0</td>\n",
       "      <td>M</td>\n",
       "      <td>Sales</td>\n",
       "      <td>G4</td>\n",
       "      <td>709</td>\n",
       "    </tr>\n",
       "  </tbody>\n",
       "</table>\n",
       "</div>"
      ],
      "text/plain": [
       "                age   income gender  department grade  performance_score\n",
       "name                                                                    \n",
       "Allen Smith    45.0  52000.0      F  Operations    G3                723\n",
       "S Kumar        45.0  16000.0      F     Finance    G0                520\n",
       "Jack Morgan    32.0  35000.0      M     Finance    G2                674\n",
       "Ying Chin      45.0  65000.0      F       Sales    G3                556\n",
       "Dheeraj Patel  30.0  42000.0      F  Operations    G2                711\n",
       "Satyam Sharma  45.0  62000.0      F       Sales    G3                649\n",
       "James Authur   54.0  52000.0      F  Operations    G3                 53\n",
       "Josh Wills     54.0  52000.0      F     Finance    G3                901\n",
       "Leo Duck       23.0  98000.0      M       Sales    G4                709"
      ]
     },
     "execution_count": 17,
     "metadata": {},
     "output_type": "execute_result"
    }
   ],
   "source": [
    "data"
   ]
  },
  {
   "cell_type": "markdown",
   "id": "f8370366",
   "metadata": {},
   "source": [
    "# 8. Check the outliers and handle outliers in performance score using Percentiles."
   ]
  },
  {
   "cell_type": "code",
   "execution_count": 18,
   "id": "c08d38ba",
   "metadata": {},
   "outputs": [
    {
     "data": {
      "image/png": "[encoded data removed]",
      "text/plain": [
       "<Figure size 432x288 with 1 Axes>"
      ]
     },
     "metadata": {
      "needs_background": "light"
     },
     "output_type": "display_data"
    }
   ],
   "source": [
    "#boxplot of 'performance_score'\n",
    "plt.boxplot(data['performance_score'])\n",
    "plt.show()"
   ]
  },
  {
   "cell_type": "code",
   "execution_count": 19,
   "id": "dc5cc985",
   "metadata": {},
   "outputs": [
    {
     "name": "stdout",
     "output_type": "stream",
     "text": [
      "Q1 =  556.0 \n",
      "Q2 =  674.0 \n",
      "Q3 =  711.0\n"
     ]
    }
   ],
   "source": [
    "#calculating percentiles\n",
    "Q1=np.percentile(data['performance_score'],25,interpolation='midpoint')\n",
    "Q2=np.percentile(data['performance_score'],50,interpolation='midpoint')\n",
    "Q3=np.percentile(data['performance_score'],75,interpolation='midpoint')\n",
    "print('Q1 = ',Q1,'\\nQ2 = ',round(Q2,2),'\\nQ3 = ',Q3)"
   ]
  },
  {
   "cell_type": "code",
   "execution_count": 20,
   "id": "b4f71534",
   "metadata": {},
   "outputs": [
    {
     "name": "stdout",
     "output_type": "stream",
     "text": [
      "IQR =  155.0\n"
     ]
    }
   ],
   "source": [
    "#calculating inter quartile range\n",
    "IQR=Q3-Q1\n",
    "print('IQR = ',IQR)"
   ]
  },
  {
   "cell_type": "code",
   "execution_count": 21,
   "id": "39154291",
   "metadata": {},
   "outputs": [
    {
     "name": "stdout",
     "output_type": "stream",
     "text": [
      "Upper limit =  943.5 \n",
      "Lower limit =  323.5\n"
     ]
    }
   ],
   "source": [
    "#calculating the upper and lower limit of outliers\n",
    "low_lim=Q1-(1.5*IQR)\n",
    "up_lim=Q3+(1.5*IQR)\n",
    "print('Upper limit = ',up_lim,'\\nLower limit = ',low_lim)"
   ]
  },
  {
   "cell_type": "code",
   "execution_count": 22,
   "id": "eb9b817b",
   "metadata": {},
   "outputs": [
    {
     "data": {
      "text/plain": [
       "[53]"
      ]
     },
     "execution_count": 22,
     "metadata": {},
     "output_type": "execute_result"
    }
   ],
   "source": [
    "#creating a list of outliers\n",
    "outlier=[]\n",
    "for x in data['performance_score']:\n",
    "    if (x>up_lim or x<low_lim):\n",
    "        outlier.append(x)\n",
    "outlier"
   ]
  },
  {
   "cell_type": "code",
   "execution_count": 23,
   "id": "68183370",
   "metadata": {},
   "outputs": [
    {
     "data": {
      "text/plain": [
       "Index(['James Authur'], dtype='object', name='name')"
      ]
     },
     "execution_count": 23,
     "metadata": {},
     "output_type": "execute_result"
    }
   ],
   "source": [
    "#finding index values of outliers\n",
    "ind1=data['performance_score']<low_lim\n",
    "data.loc[ind1].index"
   ]
  },
  {
   "cell_type": "code",
   "execution_count": 24,
   "id": "142ee2da",
   "metadata": {},
   "outputs": [],
   "source": [
    "#removing the outliers\n",
    "data.drop(['James Authur'],inplace=True)"
   ]
  },
  {
   "cell_type": "code",
   "execution_count": 25,
   "id": "05b9f976",
   "metadata": {},
   "outputs": [
    {
     "data": {
      "image/png": "[encoded data removed]",
      "text/plain": [
       "<Figure size 432x288 with 1 Axes>"
      ]
     },
     "metadata": {
      "needs_background": "light"
     },
     "output_type": "display_data"
    }
   ],
   "source": [
    "#boxplot of 'performance_score'\n",
    "plt.boxplot(data['performance_score'])\n",
    "plt.show()"
   ]
  },
  {
   "cell_type": "markdown",
   "id": "d3f14b78",
   "metadata": {},
   "source": [
    "# 9. Check the gender column and do Dummy encoding. "
   ]
  },
  {
   "cell_type": "code",
   "execution_count": 26,
   "id": "7e909add",
   "metadata": {},
   "outputs": [
    {
     "data": {
      "text/html": [
       "<div>\n",
       "<style scoped>\n",
       "    .dataframe tbody tr th:only-of-type {\n",
       "        vertical-align: middle;\n",
       "    }\n",
       "\n",
       "    .dataframe tbody tr th {\n",
       "        vertical-align: top;\n",
       "    }\n",
       "\n",
       "    .dataframe thead th {\n",
       "        text-align: right;\n",
       "    }\n",
       "</style>\n",
       "<table border=\"1\" class=\"dataframe\">\n",
       "  <thead>\n",
       "    <tr style=\"text-align: right;\">\n",
       "      <th></th>\n",
       "      <th>age</th>\n",
       "      <th>income</th>\n",
       "      <th>department</th>\n",
       "      <th>grade</th>\n",
       "      <th>performance_score</th>\n",
       "      <th>gender_F</th>\n",
       "      <th>gender_M</th>\n",
       "    </tr>\n",
       "    <tr>\n",
       "      <th>name</th>\n",
       "      <th></th>\n",
       "      <th></th>\n",
       "      <th></th>\n",
       "      <th></th>\n",
       "      <th></th>\n",
       "      <th></th>\n",
       "      <th></th>\n",
       "    </tr>\n",
       "  </thead>\n",
       "  <tbody>\n",
       "    <tr>\n",
       "      <th>Allen Smith</th>\n",
       "      <td>45.0</td>\n",
       "      <td>52000.0</td>\n",
       "      <td>Operations</td>\n",
       "      <td>G3</td>\n",
       "      <td>723</td>\n",
       "      <td>1</td>\n",
       "      <td>0</td>\n",
       "    </tr>\n",
       "    <tr>\n",
       "      <th>S Kumar</th>\n",
       "      <td>45.0</td>\n",
       "      <td>16000.0</td>\n",
       "      <td>Finance</td>\n",
       "      <td>G0</td>\n",
       "      <td>520</td>\n",
       "      <td>1</td>\n",
       "      <td>0</td>\n",
       "    </tr>\n",
       "    <tr>\n",
       "      <th>Jack Morgan</th>\n",
       "      <td>32.0</td>\n",
       "      <td>35000.0</td>\n",
       "      <td>Finance</td>\n",
       "      <td>G2</td>\n",
       "      <td>674</td>\n",
       "      <td>0</td>\n",
       "      <td>1</td>\n",
       "    </tr>\n",
       "    <tr>\n",
       "      <th>Ying Chin</th>\n",
       "      <td>45.0</td>\n",
       "      <td>65000.0</td>\n",
       "      <td>Sales</td>\n",
       "      <td>G3</td>\n",
       "      <td>556</td>\n",
       "      <td>1</td>\n",
       "      <td>0</td>\n",
       "    </tr>\n",
       "    <tr>\n",
       "      <th>Dheeraj Patel</th>\n",
       "      <td>30.0</td>\n",
       "      <td>42000.0</td>\n",
       "      <td>Operations</td>\n",
       "      <td>G2</td>\n",
       "      <td>711</td>\n",
       "      <td>1</td>\n",
       "      <td>0</td>\n",
       "    </tr>\n",
       "    <tr>\n",
       "      <th>Satyam Sharma</th>\n",
       "      <td>45.0</td>\n",
       "      <td>62000.0</td>\n",
       "      <td>Sales</td>\n",
       "      <td>G3</td>\n",
       "      <td>649</td>\n",
       "      <td>1</td>\n",
       "      <td>0</td>\n",
       "    </tr>\n",
       "    <tr>\n",
       "      <th>Josh Wills</th>\n",
       "      <td>54.0</td>\n",
       "      <td>52000.0</td>\n",
       "      <td>Finance</td>\n",
       "      <td>G3</td>\n",
       "      <td>901</td>\n",
       "      <td>1</td>\n",
       "      <td>0</td>\n",
       "    </tr>\n",
       "    <tr>\n",
       "      <th>Leo Duck</th>\n",
       "      <td>23.0</td>\n",
       "      <td>98000.0</td>\n",
       "      <td>Sales</td>\n",
       "      <td>G4</td>\n",
       "      <td>709</td>\n",
       "      <td>0</td>\n",
       "      <td>1</td>\n",
       "    </tr>\n",
       "  </tbody>\n",
       "</table>\n",
       "</div>"
      ],
      "text/plain": [
       "                age   income  department grade  performance_score  gender_F  \\\n",
       "name                                                                          \n",
       "Allen Smith    45.0  52000.0  Operations    G3                723         1   \n",
       "S Kumar        45.0  16000.0     Finance    G0                520         1   \n",
       "Jack Morgan    32.0  35000.0     Finance    G2                674         0   \n",
       "Ying Chin      45.0  65000.0       Sales    G3                556         1   \n",
       "Dheeraj Patel  30.0  42000.0  Operations    G2                711         1   \n",
       "Satyam Sharma  45.0  62000.0       Sales    G3                649         1   \n",
       "Josh Wills     54.0  52000.0     Finance    G3                901         1   \n",
       "Leo Duck       23.0  98000.0       Sales    G4                709         0   \n",
       "\n",
       "               gender_M  \n",
       "name                     \n",
       "Allen Smith           0  \n",
       "S Kumar               0  \n",
       "Jack Morgan           1  \n",
       "Ying Chin             0  \n",
       "Dheeraj Patel         0  \n",
       "Satyam Sharma         0  \n",
       "Josh Wills            0  \n",
       "Leo Duck              1  "
      ]
     },
     "execution_count": 26,
     "metadata": {},
     "output_type": "execute_result"
    }
   ],
   "source": [
    "data=pd.get_dummies(data,columns=['gender'])\n",
    "data"
   ]
  },
  {
   "cell_type": "markdown",
   "id": "7034d82e",
   "metadata": {},
   "source": [
    "# 10.Do the standard scaling on the feature performance score."
   ]
  },
  {
   "cell_type": "code",
   "execution_count": 27,
   "id": "7e004b48",
   "metadata": {},
   "outputs": [
    {
     "data": {
      "text/html": [
       "<div>\n",
       "<style scoped>\n",
       "    .dataframe tbody tr th:only-of-type {\n",
       "        vertical-align: middle;\n",
       "    }\n",
       "\n",
       "    .dataframe tbody tr th {\n",
       "        vertical-align: top;\n",
       "    }\n",
       "\n",
       "    .dataframe thead th {\n",
       "        text-align: right;\n",
       "    }\n",
       "</style>\n",
       "<table border=\"1\" class=\"dataframe\">\n",
       "  <thead>\n",
       "    <tr style=\"text-align: right;\">\n",
       "      <th></th>\n",
       "      <th>performance_score</th>\n",
       "    </tr>\n",
       "    <tr>\n",
       "      <th>name</th>\n",
       "      <th></th>\n",
       "    </tr>\n",
       "  </thead>\n",
       "  <tbody>\n",
       "    <tr>\n",
       "      <th>Allen Smith</th>\n",
       "      <td>723</td>\n",
       "    </tr>\n",
       "    <tr>\n",
       "      <th>S Kumar</th>\n",
       "      <td>520</td>\n",
       "    </tr>\n",
       "    <tr>\n",
       "      <th>Jack Morgan</th>\n",
       "      <td>674</td>\n",
       "    </tr>\n",
       "    <tr>\n",
       "      <th>Ying Chin</th>\n",
       "      <td>556</td>\n",
       "    </tr>\n",
       "    <tr>\n",
       "      <th>Dheeraj Patel</th>\n",
       "      <td>711</td>\n",
       "    </tr>\n",
       "    <tr>\n",
       "      <th>Satyam Sharma</th>\n",
       "      <td>649</td>\n",
       "    </tr>\n",
       "    <tr>\n",
       "      <th>Josh Wills</th>\n",
       "      <td>901</td>\n",
       "    </tr>\n",
       "    <tr>\n",
       "      <th>Leo Duck</th>\n",
       "      <td>709</td>\n",
       "    </tr>\n",
       "  </tbody>\n",
       "</table>\n",
       "</div>"
      ],
      "text/plain": [
       "               performance_score\n",
       "name                            \n",
       "Allen Smith                  723\n",
       "S Kumar                      520\n",
       "Jack Morgan                  674\n",
       "Ying Chin                    556\n",
       "Dheeraj Patel                711\n",
       "Satyam Sharma                649\n",
       "Josh Wills                   901\n",
       "Leo Duck                     709"
      ]
     },
     "execution_count": 27,
     "metadata": {},
     "output_type": "execute_result"
    }
   ],
   "source": [
    "data[['performance_score']]"
   ]
  },
  {
   "cell_type": "code",
   "execution_count": 28,
   "id": "482e812d",
   "metadata": {},
   "outputs": [
    {
     "data": {
      "text/html": [
       "<div>\n",
       "<style scoped>\n",
       "    .dataframe tbody tr th:only-of-type {\n",
       "        vertical-align: middle;\n",
       "    }\n",
       "\n",
       "    .dataframe tbody tr th {\n",
       "        vertical-align: top;\n",
       "    }\n",
       "\n",
       "    .dataframe thead th {\n",
       "        text-align: right;\n",
       "    }\n",
       "</style>\n",
       "<table border=\"1\" class=\"dataframe\">\n",
       "  <thead>\n",
       "    <tr style=\"text-align: right;\">\n",
       "      <th></th>\n",
       "      <th>performance_score</th>\n",
       "    </tr>\n",
       "    <tr>\n",
       "      <th>name</th>\n",
       "      <th></th>\n",
       "    </tr>\n",
       "  </thead>\n",
       "  <tbody>\n",
       "    <tr>\n",
       "      <th>Allen Smith</th>\n",
       "      <td>0.392262</td>\n",
       "    </tr>\n",
       "    <tr>\n",
       "      <th>S Kumar</th>\n",
       "      <td>-1.475872</td>\n",
       "    </tr>\n",
       "    <tr>\n",
       "      <th>Jack Morgan</th>\n",
       "      <td>-0.058667</td>\n",
       "    </tr>\n",
       "    <tr>\n",
       "      <th>Ying Chin</th>\n",
       "      <td>-1.144578</td>\n",
       "    </tr>\n",
       "    <tr>\n",
       "      <th>Dheeraj Patel</th>\n",
       "      <td>0.281831</td>\n",
       "    </tr>\n",
       "    <tr>\n",
       "      <th>Satyam Sharma</th>\n",
       "      <td>-0.288733</td>\n",
       "    </tr>\n",
       "    <tr>\n",
       "      <th>Josh Wills</th>\n",
       "      <td>2.030331</td>\n",
       "    </tr>\n",
       "    <tr>\n",
       "      <th>Leo Duck</th>\n",
       "      <td>0.263425</td>\n",
       "    </tr>\n",
       "  </tbody>\n",
       "</table>\n",
       "</div>"
      ],
      "text/plain": [
       "               performance_score\n",
       "name                            \n",
       "Allen Smith             0.392262\n",
       "S Kumar                -1.475872\n",
       "Jack Morgan            -0.058667\n",
       "Ying Chin              -1.144578\n",
       "Dheeraj Patel           0.281831\n",
       "Satyam Sharma          -0.288733\n",
       "Josh Wills              2.030331\n",
       "Leo Duck                0.263425"
      ]
     },
     "execution_count": 28,
     "metadata": {},
     "output_type": "execute_result"
    }
   ],
   "source": [
    "from sklearn import preprocessing\n",
    "standardisation=preprocessing.StandardScaler()\n",
    "data[['performance_score']]=standardisation.fit_transform(data[['performance_score']])\n",
    "data[['performance_score']]=pd.DataFrame(data[['performance_score']])\n",
    "data[['performance_score']]"
   ]
  },
  {
   "cell_type": "code",
   "execution_count": null,
   "id": "bdd639a4",
   "metadata": {},
   "outputs": [],
   "source": []
  }
 ],
 "metadata": {
  "kernelspec": {
   "display_name": "Python 3",
   "language": "python",
   "name": "python3"
  },
  "language_info": {
   "codemirror_mode": {
    "name": "ipython",
    "version": 3
   },
   "file_extension": ".py",
   "mimetype": "text/x-python",
   "name": "python",
   "nbconvert_exporter": "python",
   "pygments_lexer": "ipython3",
   "version": "3.8.8"
  }
 },
 "nbformat": 4,
 "nbformat_minor": 5
}
